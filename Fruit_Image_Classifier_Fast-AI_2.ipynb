{
 "cells": [
  {
   "cell_type": "markdown",
   "id": "6b6fd297-6e8d-4e15-aaf8-c398bdfa74b3",
   "metadata": {},
   "source": [
    "# Task: Image Classification Model using multiclass classifier\n",
    "\n",
    "## Dataset info: \n",
    "    - In the original dataset, there are 61 classes in total. \n",
    "    - For my classification model I have to consider only 7 classes [“banana, beer, apple, biscuits, butter, broccoli, cheese”]"
   ]
  },
  {
   "cell_type": "code",
   "execution_count": 4,
   "id": "d8f89507-effe-41d5-aefa-74f8e568f982",
   "metadata": {},
   "outputs": [],
   "source": [
    "import os\n",
    "import shutil\n",
    "import numpy as np\n",
    "import pandas as pd\n",
    "\n",
    "from fastai.vision.all import *\n",
    "\n",
    "from sklearn.metrics import confusion_matrix\n",
    "import seaborn as sns\n",
    "from PIL import Image\n",
    "import matplotlib.pyplot as plt\n"
   ]
  },
  {
   "cell_type": "markdown",
   "id": "e974f47a-0bda-4bef-9177-3bc989895ffe",
   "metadata": {},
   "source": [
    "## Data Preprocessing and Loading\n",
    "\n",
    "Assuming you have a folder containing food images and a CSV file mapping each image to its corresponding class, you'll need to perform the following steps:\n",
    "Data Preparation and Splitting:\n",
    "- Load the images.\n",
    "- Split the dataset into training, validation, and testing sets according to the specified percentages."
   ]
  },
  {
   "cell_type": "code",
   "execution_count": 5,
   "id": "9293bcc6-7fe8-4eb6-b877-867adab29fdb",
   "metadata": {},
   "outputs": [],
   "source": [
    "# Read the CSV file\n",
    "csv_file = '/home/tomar/workspace/Priyanka/archive/train_img.csv'  \n",
    "labels = pd.read_csv(csv_file)\n",
    "\n",
    "# List of desired class names\n",
    "desired_classes = [\"banana\", \"beer\", \"apple\", \"biscuits\", \"butter\", \"broccoli\", \"cheese\"]\n",
    "\n",
    "# Filter the CSV for desired classes\n",
    "filtered_labels = labels[labels['ClassName'].isin(desired_classes)]\n",
    "\n",
    "# Save the filtered CSV\n",
    "desired_csv_file = 'desired_labels.csv'  # Replace with a desired name\n",
    "filtered_labels.to_csv(desired_csv_file, index=False)\n"
   ]
  },
  {
   "cell_type": "code",
   "execution_count": 6,
   "id": "34be845f-9522-4a6e-923e-2176c3f00d18",
   "metadata": {},
   "outputs": [
    {
     "name": "stdout",
     "output_type": "stream",
     "text": [
      "Extraction complete.\n"
     ]
    }
   ],
   "source": [
    "# Paths\n",
    "dataset_path = '/home/tomar/workspace/Priyanka/archive/train_images/'\n",
    "desired_labels = '/home/tomar/workspace/Priyanka/desired_labels.csv' \n",
    "output_folder = '/home/tomar/workspace/Priyanka/desired_images'\n",
    "\n",
    "# Read the CSV file with desired file names\n",
    "labels = pd.read_csv(desired_labels)\n",
    "\n",
    "# Create the output folder if it doesn't exist\n",
    "if not os.path.exists(output_folder):\n",
    "    os.makedirs(output_folder)\n",
    "\n",
    "# Iterate through each file name in the CSV and copy the corresponding images to the output folder\n",
    "for index, row in labels.iterrows():\n",
    "    file_name = row['ImageId']\n",
    "    source_path = os.path.join(dataset_path, file_name)\n",
    "    \n",
    "    # Check if the file exists and copy it to the output folder\n",
    "    if os.path.exists(source_path):\n",
    "        shutil.copy(source_path, output_folder)\n",
    "    else:\n",
    "        print(f\"File {file_name} not found.\")\n",
    "\n",
    "print(\"Extraction complete.\")\n"
   ]
  },
  {
   "cell_type": "code",
   "execution_count": 7,
   "id": "45b9afc8-b79d-4bf7-8cfd-ad0e168a033d",
   "metadata": {},
   "outputs": [
    {
     "name": "stdout",
     "output_type": "stream",
     "text": [
      "Organization complete.\n"
     ]
    }
   ],
   "source": [
    "# Path to your dataset folder\n",
    "dataset_path = '/home/tomar/workspace/Priyanka/desired_images'  # Update this with the path to your dataset folder\n",
    "csv_file = '/home/tomar/workspace/Priyanka/desired_labels.csv'  # Update this with the name of your desired labels CSV file\n",
    "output_folder = '/home/tomar/workspace/Priyanka/root_images'  # The output folder where images will be organized\n",
    "\n",
    "# Create the output folder if it doesn't exist\n",
    "if not os.path.exists(output_folder):\n",
    "    os.makedirs(output_folder)\n",
    "\n",
    "# Read the CSV file with desired class names\n",
    "data = pd.read_csv(csv_file)\n",
    "\n",
    "# Iterate through each row in the CSV and organize the images to the output folder\n",
    "for index, row in data.iterrows():\n",
    "    file_name = row['ImageId']\n",
    "    class_name = row['ClassName']\n",
    "    source_path = os.path.join(dataset_path, file_name)\n",
    "    \n",
    "    # Check if the file exists and copy it to the output folder with appropriate class name\n",
    "    if os.path.exists(source_path):\n",
    "        class_folder = os.path.join(output_folder, class_name)\n",
    "        if not os.path.exists(class_folder):\n",
    "            os.makedirs(class_folder)\n",
    "        shutil.copy(source_path, os.path.join(class_folder, file_name))\n",
    "    else:\n",
    "        print(f\"File {file_name} not found.\")\n",
    "\n",
    "print(\"Organization complete.\")\n"
   ]
  },
  {
   "cell_type": "markdown",
   "id": "6914aa1f-c72c-452c-9aea-b6281e69215a",
   "metadata": {},
   "source": [
    "### Define a Classifier using fastAI:"
   ]
  },
  {
   "cell_type": "code",
   "execution_count": 8,
   "id": "036ed275-91be-40a6-8b50-72a301ec0f0f",
   "metadata": {},
   "outputs": [
    {
     "name": "stderr",
     "output_type": "stream",
     "text": [
      "/home/tomar/miniconda3/envs/py311/lib/python3.11/site-packages/fastai/vision/learner.py:301: UserWarning: `cnn_learner` has been renamed to `vision_learner` -- please update your code\n",
      "  warn(\"`cnn_learner` has been renamed to `vision_learner` -- please update your code\")\n"
     ]
    },
    {
     "data": {
      "text/html": [
       "\n",
       "<style>\n",
       "    /* Turns off some styling */\n",
       "    progress {\n",
       "        /* gets rid of default border in Firefox and Opera. */\n",
       "        border: none;\n",
       "        /* Needs to be in here for Safari polyfill so background images work as expected. */\n",
       "        background-size: auto;\n",
       "    }\n",
       "    progress:not([value]), progress:not([value])::-webkit-progress-bar {\n",
       "        background: repeating-linear-gradient(45deg, #7e7e7e, #7e7e7e 10px, #5c5c5c 10px, #5c5c5c 20px);\n",
       "    }\n",
       "    .progress-bar-interrupted, .progress-bar-interrupted::-webkit-progress-bar {\n",
       "        background: #F44336;\n",
       "    }\n",
       "</style>\n"
      ],
      "text/plain": [
       "<IPython.core.display.HTML object>"
      ]
     },
     "metadata": {},
     "output_type": "display_data"
    },
    {
     "data": {
      "text/html": [
       "<table border=\"1\" class=\"dataframe\">\n",
       "  <thead>\n",
       "    <tr style=\"text-align: left;\">\n",
       "      <th>epoch</th>\n",
       "      <th>train_loss</th>\n",
       "      <th>valid_loss</th>\n",
       "      <th>accuracy</th>\n",
       "      <th>time</th>\n",
       "    </tr>\n",
       "  </thead>\n",
       "  <tbody>\n",
       "    <tr>\n",
       "      <td>0</td>\n",
       "      <td>2.206267</td>\n",
       "      <td>1.009943</td>\n",
       "      <td>0.714286</td>\n",
       "      <td>00:03</td>\n",
       "    </tr>\n",
       "  </tbody>\n",
       "</table>"
      ],
      "text/plain": [
       "<IPython.core.display.HTML object>"
      ]
     },
     "metadata": {},
     "output_type": "display_data"
    },
    {
     "data": {
      "text/html": [
       "\n",
       "<style>\n",
       "    /* Turns off some styling */\n",
       "    progress {\n",
       "        /* gets rid of default border in Firefox and Opera. */\n",
       "        border: none;\n",
       "        /* Needs to be in here for Safari polyfill so background images work as expected. */\n",
       "        background-size: auto;\n",
       "    }\n",
       "    progress:not([value]), progress:not([value])::-webkit-progress-bar {\n",
       "        background: repeating-linear-gradient(45deg, #7e7e7e, #7e7e7e 10px, #5c5c5c 10px, #5c5c5c 20px);\n",
       "    }\n",
       "    .progress-bar-interrupted, .progress-bar-interrupted::-webkit-progress-bar {\n",
       "        background: #F44336;\n",
       "    }\n",
       "</style>\n"
      ],
      "text/plain": [
       "<IPython.core.display.HTML object>"
      ]
     },
     "metadata": {},
     "output_type": "display_data"
    },
    {
     "data": {
      "text/html": [
       "<table border=\"1\" class=\"dataframe\">\n",
       "  <thead>\n",
       "    <tr style=\"text-align: left;\">\n",
       "      <th>epoch</th>\n",
       "      <th>train_loss</th>\n",
       "      <th>valid_loss</th>\n",
       "      <th>accuracy</th>\n",
       "      <th>time</th>\n",
       "    </tr>\n",
       "  </thead>\n",
       "  <tbody>\n",
       "    <tr>\n",
       "      <td>0</td>\n",
       "      <td>0.860541</td>\n",
       "      <td>0.840492</td>\n",
       "      <td>0.769585</td>\n",
       "      <td>00:03</td>\n",
       "    </tr>\n",
       "    <tr>\n",
       "      <td>1</td>\n",
       "      <td>0.701520</td>\n",
       "      <td>0.781629</td>\n",
       "      <td>0.769585</td>\n",
       "      <td>00:03</td>\n",
       "    </tr>\n",
       "    <tr>\n",
       "      <td>2</td>\n",
       "      <td>0.571579</td>\n",
       "      <td>0.755785</td>\n",
       "      <td>0.778802</td>\n",
       "      <td>00:03</td>\n",
       "    </tr>\n",
       "    <tr>\n",
       "      <td>3</td>\n",
       "      <td>0.473941</td>\n",
       "      <td>0.734009</td>\n",
       "      <td>0.788018</td>\n",
       "      <td>00:03</td>\n",
       "    </tr>\n",
       "    <tr>\n",
       "      <td>4</td>\n",
       "      <td>0.396260</td>\n",
       "      <td>0.738992</td>\n",
       "      <td>0.778802</td>\n",
       "      <td>00:03</td>\n",
       "    </tr>\n",
       "    <tr>\n",
       "      <td>5</td>\n",
       "      <td>0.326535</td>\n",
       "      <td>0.758560</td>\n",
       "      <td>0.792627</td>\n",
       "      <td>00:03</td>\n",
       "    </tr>\n",
       "    <tr>\n",
       "      <td>6</td>\n",
       "      <td>0.266002</td>\n",
       "      <td>0.738527</td>\n",
       "      <td>0.801843</td>\n",
       "      <td>00:03</td>\n",
       "    </tr>\n",
       "    <tr>\n",
       "      <td>7</td>\n",
       "      <td>0.215673</td>\n",
       "      <td>0.769106</td>\n",
       "      <td>0.797235</td>\n",
       "      <td>00:03</td>\n",
       "    </tr>\n",
       "    <tr>\n",
       "      <td>8</td>\n",
       "      <td>0.170936</td>\n",
       "      <td>0.784549</td>\n",
       "      <td>0.792627</td>\n",
       "      <td>00:03</td>\n",
       "    </tr>\n",
       "    <tr>\n",
       "      <td>9</td>\n",
       "      <td>0.137194</td>\n",
       "      <td>0.792695</td>\n",
       "      <td>0.797235</td>\n",
       "      <td>00:03</td>\n",
       "    </tr>\n",
       "    <tr>\n",
       "      <td>10</td>\n",
       "      <td>0.110448</td>\n",
       "      <td>0.795700</td>\n",
       "      <td>0.792627</td>\n",
       "      <td>00:03</td>\n",
       "    </tr>\n",
       "    <tr>\n",
       "      <td>11</td>\n",
       "      <td>0.093195</td>\n",
       "      <td>0.821158</td>\n",
       "      <td>0.778802</td>\n",
       "      <td>00:03</td>\n",
       "    </tr>\n",
       "    <tr>\n",
       "      <td>12</td>\n",
       "      <td>0.076145</td>\n",
       "      <td>0.821201</td>\n",
       "      <td>0.797235</td>\n",
       "      <td>00:03</td>\n",
       "    </tr>\n",
       "    <tr>\n",
       "      <td>13</td>\n",
       "      <td>0.062166</td>\n",
       "      <td>0.825733</td>\n",
       "      <td>0.774194</td>\n",
       "      <td>00:03</td>\n",
       "    </tr>\n",
       "    <tr>\n",
       "      <td>14</td>\n",
       "      <td>0.050041</td>\n",
       "      <td>0.841081</td>\n",
       "      <td>0.778802</td>\n",
       "      <td>00:03</td>\n",
       "    </tr>\n",
       "    <tr>\n",
       "      <td>15</td>\n",
       "      <td>0.040562</td>\n",
       "      <td>0.855183</td>\n",
       "      <td>0.788018</td>\n",
       "      <td>00:03</td>\n",
       "    </tr>\n",
       "    <tr>\n",
       "      <td>16</td>\n",
       "      <td>0.032777</td>\n",
       "      <td>0.856914</td>\n",
       "      <td>0.806452</td>\n",
       "      <td>00:03</td>\n",
       "    </tr>\n",
       "    <tr>\n",
       "      <td>17</td>\n",
       "      <td>0.032827</td>\n",
       "      <td>0.936480</td>\n",
       "      <td>0.824885</td>\n",
       "      <td>00:03</td>\n",
       "    </tr>\n",
       "    <tr>\n",
       "      <td>18</td>\n",
       "      <td>0.027549</td>\n",
       "      <td>0.984797</td>\n",
       "      <td>0.815668</td>\n",
       "      <td>00:03</td>\n",
       "    </tr>\n",
       "    <tr>\n",
       "      <td>19</td>\n",
       "      <td>0.023933</td>\n",
       "      <td>0.947798</td>\n",
       "      <td>0.811060</td>\n",
       "      <td>00:03</td>\n",
       "    </tr>\n",
       "    <tr>\n",
       "      <td>20</td>\n",
       "      <td>0.019858</td>\n",
       "      <td>0.951553</td>\n",
       "      <td>0.820276</td>\n",
       "      <td>00:03</td>\n",
       "    </tr>\n",
       "    <tr>\n",
       "      <td>21</td>\n",
       "      <td>0.016719</td>\n",
       "      <td>0.985236</td>\n",
       "      <td>0.806452</td>\n",
       "      <td>00:03</td>\n",
       "    </tr>\n",
       "    <tr>\n",
       "      <td>22</td>\n",
       "      <td>0.014489</td>\n",
       "      <td>0.978886</td>\n",
       "      <td>0.801843</td>\n",
       "      <td>00:03</td>\n",
       "    </tr>\n",
       "    <tr>\n",
       "      <td>23</td>\n",
       "      <td>0.011961</td>\n",
       "      <td>1.004616</td>\n",
       "      <td>0.801843</td>\n",
       "      <td>00:03</td>\n",
       "    </tr>\n",
       "    <tr>\n",
       "      <td>24</td>\n",
       "      <td>0.010463</td>\n",
       "      <td>1.038896</td>\n",
       "      <td>0.811060</td>\n",
       "      <td>00:03</td>\n",
       "    </tr>\n",
       "    <tr>\n",
       "      <td>25</td>\n",
       "      <td>0.010480</td>\n",
       "      <td>1.082135</td>\n",
       "      <td>0.811060</td>\n",
       "      <td>00:03</td>\n",
       "    </tr>\n",
       "    <tr>\n",
       "      <td>26</td>\n",
       "      <td>0.009171</td>\n",
       "      <td>1.060986</td>\n",
       "      <td>0.801843</td>\n",
       "      <td>00:03</td>\n",
       "    </tr>\n",
       "    <tr>\n",
       "      <td>27</td>\n",
       "      <td>0.007728</td>\n",
       "      <td>1.058304</td>\n",
       "      <td>0.801843</td>\n",
       "      <td>00:03</td>\n",
       "    </tr>\n",
       "    <tr>\n",
       "      <td>28</td>\n",
       "      <td>0.007555</td>\n",
       "      <td>1.048015</td>\n",
       "      <td>0.806452</td>\n",
       "      <td>00:03</td>\n",
       "    </tr>\n",
       "    <tr>\n",
       "      <td>29</td>\n",
       "      <td>0.008664</td>\n",
       "      <td>1.090720</td>\n",
       "      <td>0.815668</td>\n",
       "      <td>00:03</td>\n",
       "    </tr>\n",
       "    <tr>\n",
       "      <td>30</td>\n",
       "      <td>0.007665</td>\n",
       "      <td>1.064944</td>\n",
       "      <td>0.797235</td>\n",
       "      <td>00:03</td>\n",
       "    </tr>\n",
       "    <tr>\n",
       "      <td>31</td>\n",
       "      <td>0.008774</td>\n",
       "      <td>1.073254</td>\n",
       "      <td>0.801843</td>\n",
       "      <td>00:03</td>\n",
       "    </tr>\n",
       "    <tr>\n",
       "      <td>32</td>\n",
       "      <td>0.007802</td>\n",
       "      <td>1.071718</td>\n",
       "      <td>0.815668</td>\n",
       "      <td>00:03</td>\n",
       "    </tr>\n",
       "    <tr>\n",
       "      <td>33</td>\n",
       "      <td>0.006328</td>\n",
       "      <td>1.062580</td>\n",
       "      <td>0.815668</td>\n",
       "      <td>00:03</td>\n",
       "    </tr>\n",
       "    <tr>\n",
       "      <td>34</td>\n",
       "      <td>0.005132</td>\n",
       "      <td>1.051952</td>\n",
       "      <td>0.829493</td>\n",
       "      <td>00:03</td>\n",
       "    </tr>\n",
       "    <tr>\n",
       "      <td>35</td>\n",
       "      <td>0.004882</td>\n",
       "      <td>1.082665</td>\n",
       "      <td>0.829493</td>\n",
       "      <td>00:03</td>\n",
       "    </tr>\n",
       "    <tr>\n",
       "      <td>36</td>\n",
       "      <td>0.004166</td>\n",
       "      <td>1.059064</td>\n",
       "      <td>0.820276</td>\n",
       "      <td>00:03</td>\n",
       "    </tr>\n",
       "    <tr>\n",
       "      <td>37</td>\n",
       "      <td>0.004071</td>\n",
       "      <td>1.071353</td>\n",
       "      <td>0.820276</td>\n",
       "      <td>00:03</td>\n",
       "    </tr>\n",
       "    <tr>\n",
       "      <td>38</td>\n",
       "      <td>0.003572</td>\n",
       "      <td>1.063339</td>\n",
       "      <td>0.824885</td>\n",
       "      <td>00:03</td>\n",
       "    </tr>\n",
       "    <tr>\n",
       "      <td>39</td>\n",
       "      <td>0.003037</td>\n",
       "      <td>1.062812</td>\n",
       "      <td>0.820276</td>\n",
       "      <td>00:03</td>\n",
       "    </tr>\n",
       "    <tr>\n",
       "      <td>40</td>\n",
       "      <td>0.002650</td>\n",
       "      <td>1.083514</td>\n",
       "      <td>0.820276</td>\n",
       "      <td>00:03</td>\n",
       "    </tr>\n",
       "    <tr>\n",
       "      <td>41</td>\n",
       "      <td>0.002201</td>\n",
       "      <td>1.082126</td>\n",
       "      <td>0.824885</td>\n",
       "      <td>00:03</td>\n",
       "    </tr>\n",
       "    <tr>\n",
       "      <td>42</td>\n",
       "      <td>0.001898</td>\n",
       "      <td>1.071524</td>\n",
       "      <td>0.824885</td>\n",
       "      <td>00:03</td>\n",
       "    </tr>\n",
       "    <tr>\n",
       "      <td>43</td>\n",
       "      <td>0.001837</td>\n",
       "      <td>1.071395</td>\n",
       "      <td>0.820276</td>\n",
       "      <td>00:03</td>\n",
       "    </tr>\n",
       "    <tr>\n",
       "      <td>44</td>\n",
       "      <td>0.001556</td>\n",
       "      <td>1.075909</td>\n",
       "      <td>0.820276</td>\n",
       "      <td>00:03</td>\n",
       "    </tr>\n",
       "    <tr>\n",
       "      <td>45</td>\n",
       "      <td>0.001328</td>\n",
       "      <td>1.065515</td>\n",
       "      <td>0.824885</td>\n",
       "      <td>00:03</td>\n",
       "    </tr>\n",
       "    <tr>\n",
       "      <td>46</td>\n",
       "      <td>0.001270</td>\n",
       "      <td>1.072456</td>\n",
       "      <td>0.820276</td>\n",
       "      <td>00:03</td>\n",
       "    </tr>\n",
       "    <tr>\n",
       "      <td>47</td>\n",
       "      <td>0.001218</td>\n",
       "      <td>1.068373</td>\n",
       "      <td>0.820276</td>\n",
       "      <td>00:03</td>\n",
       "    </tr>\n",
       "    <tr>\n",
       "      <td>48</td>\n",
       "      <td>0.001259</td>\n",
       "      <td>1.069898</td>\n",
       "      <td>0.820276</td>\n",
       "      <td>00:03</td>\n",
       "    </tr>\n",
       "    <tr>\n",
       "      <td>49</td>\n",
       "      <td>0.001510</td>\n",
       "      <td>1.084736</td>\n",
       "      <td>0.820276</td>\n",
       "      <td>00:03</td>\n",
       "    </tr>\n",
       "  </tbody>\n",
       "</table>"
      ],
      "text/plain": [
       "<IPython.core.display.HTML object>"
      ]
     },
     "metadata": {},
     "output_type": "display_data"
    }
   ],
   "source": [
    "# Define paths\n",
    "path = Path('/home/tomar/workspace/Priyanka/root_images')\n",
    "\n",
    "# Load data using DataBlock\n",
    "dls = ImageDataLoaders.from_folder(path, train='.', valid_pct=0.2, item_tfms=Resize(224))\n",
    "\n",
    "# Create a learner\n",
    "learn = cnn_learner(dls, resnet18, metrics=accuracy)\n",
    "\n",
    "# Train the model\n",
    "learn.fine_tune(50)  # Train the model for 5 epochs\n",
    "\n",
    "\n",
    "\n"
   ]
  },
  {
   "cell_type": "markdown",
   "id": "e2f5e893-f5eb-4b59-b0bd-22130f1225a7",
   "metadata": {},
   "source": [
    "### Visualization of the Confusion Matrix:"
   ]
  },
  {
   "cell_type": "code",
   "execution_count": 9,
   "id": "4bd2b45e-5e68-43ca-b5ba-ca8ad15abbfc",
   "metadata": {},
   "outputs": [
    {
     "data": {
      "text/html": [
       "\n",
       "<style>\n",
       "    /* Turns off some styling */\n",
       "    progress {\n",
       "        /* gets rid of default border in Firefox and Opera. */\n",
       "        border: none;\n",
       "        /* Needs to be in here for Safari polyfill so background images work as expected. */\n",
       "        background-size: auto;\n",
       "    }\n",
       "    progress:not([value]), progress:not([value])::-webkit-progress-bar {\n",
       "        background: repeating-linear-gradient(45deg, #7e7e7e, #7e7e7e 10px, #5c5c5c 10px, #5c5c5c 20px);\n",
       "    }\n",
       "    .progress-bar-interrupted, .progress-bar-interrupted::-webkit-progress-bar {\n",
       "        background: #F44336;\n",
       "    }\n",
       "</style>\n"
      ],
      "text/plain": [
       "<IPython.core.display.HTML object>"
      ]
     },
     "metadata": {},
     "output_type": "display_data"
    },
    {
     "data": {
      "text/html": [],
      "text/plain": [
       "<IPython.core.display.HTML object>"
      ]
     },
     "metadata": {},
     "output_type": "display_data"
    },
    {
     "data": {
      "text/html": [
       "\n",
       "<style>\n",
       "    /* Turns off some styling */\n",
       "    progress {\n",
       "        /* gets rid of default border in Firefox and Opera. */\n",
       "        border: none;\n",
       "        /* Needs to be in here for Safari polyfill so background images work as expected. */\n",
       "        background-size: auto;\n",
       "    }\n",
       "    progress:not([value]), progress:not([value])::-webkit-progress-bar {\n",
       "        background: repeating-linear-gradient(45deg, #7e7e7e, #7e7e7e 10px, #5c5c5c 10px, #5c5c5c 20px);\n",
       "    }\n",
       "    .progress-bar-interrupted, .progress-bar-interrupted::-webkit-progress-bar {\n",
       "        background: #F44336;\n",
       "    }\n",
       "</style>\n"
      ],
      "text/plain": [
       "<IPython.core.display.HTML object>"
      ]
     },
     "metadata": {},
     "output_type": "display_data"
    },
    {
     "data": {
      "text/html": [],
      "text/plain": [
       "<IPython.core.display.HTML object>"
      ]
     },
     "metadata": {},
     "output_type": "display_data"
    },
    {
     "data": {
      "image/png": "[encoded data removed]",
      "text/plain": [
       "<Figure size 640x480 with 1 Axes>"
      ]
     },
     "metadata": {},
     "output_type": "display_data"
    }
   ],
   "source": [
    "# Show confusion matrix\n",
    "interp = ClassificationInterpretation.from_learner(learn)\n",
    "interp.plot_confusion_matrix()\n"
   ]
  },
  {
   "cell_type": "markdown",
   "id": "1e80d0dc-a223-4ac8-a460-6a2eb2721e08",
   "metadata": {},
   "source": [
    "### Prediction of Class from User Input Image:"
   ]
  },
  {
   "cell_type": "code",
   "execution_count": 12,
   "id": "8896bd6f-4c07-4ef4-9990-8d26bf589ef8",
   "metadata": {},
   "outputs": [
    {
     "name": "stdin",
     "output_type": "stream",
     "text": [
      "Enter the path to the image file:  /home/tomar/workspace/Priyanka/root_images/banana/0b70ff38f1.jpg\n"
     ]
    }
   ],
   "source": [
    "# Ask the user to input the image file path\n",
    "image_path = input(\"Enter the path to the image file: \")\n",
    "\n",
    "# Load the image using the provided path\n",
    "input_image = Image.open(image_path).convert('RGB')\n",
    "# input_image = Image.open('/home/tomar/workspace/Priyanka/root_images/banana/0b70ff38f1.jpg').convert('RGB')"
   ]
  },
  {
   "cell_type": "code",
   "execution_count": 13,
   "id": "288ed868-853b-4c87-a14b-e31730db03b1",
   "metadata": {},
   "outputs": [
    {
     "data": {
      "text/html": [
       "\n",
       "<style>\n",
       "    /* Turns off some styling */\n",
       "    progress {\n",
       "        /* gets rid of default border in Firefox and Opera. */\n",
       "        border: none;\n",
       "        /* Needs to be in here for Safari polyfill so background images work as expected. */\n",
       "        background-size: auto;\n",
       "    }\n",
       "    progress:not([value]), progress:not([value])::-webkit-progress-bar {\n",
       "        background: repeating-linear-gradient(45deg, #7e7e7e, #7e7e7e 10px, #5c5c5c 10px, #5c5c5c 20px);\n",
       "    }\n",
       "    .progress-bar-interrupted, .progress-bar-interrupted::-webkit-progress-bar {\n",
       "        background: #F44336;\n",
       "    }\n",
       "</style>\n"
      ],
      "text/plain": [
       "<IPython.core.display.HTML object>"
      ]
     },
     "metadata": {},
     "output_type": "display_data"
    },
    {
     "data": {
      "text/html": [],
      "text/plain": [
       "<IPython.core.display.HTML object>"
      ]
     },
     "metadata": {},
     "output_type": "display_data"
    },
    {
     "name": "stdout",
     "output_type": "stream",
     "text": [
      "Predicted class: banana\n"
     ]
    }
   ],
   "source": [
    "# Predict classes for the input image\n",
    "pred_class, _, _ = learn.predict(img)\n",
    "print(\"Predicted class:\", pred_class)"
   ]
  },
  {
   "cell_type": "code",
   "execution_count": null,
   "id": "1d1d3d0f-d848-4fa7-bc8f-e3e72ec2a9f2",
   "metadata": {},
   "outputs": [],
   "source": []
  }
 ],
 "metadata": {
  "kernelspec": {
   "display_name": "Python 3 (ipykernel)",
   "language": "python",
   "name": "python3"
  },
  "language_info": {
   "codemirror_mode": {
    "name": "ipython",
    "version": 3
   },
   "file_extension": ".py",
   "mimetype": "text/x-python",
   "name": "python",
   "nbconvert_exporter": "python",
   "pygments_lexer": "ipython3",
   "version": "3.11.4"
  }
 },
 "nbformat": 4,
 "nbformat_minor": 5
}

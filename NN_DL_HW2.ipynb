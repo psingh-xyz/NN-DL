{
  "cells": [
    {
      "cell_type": "markdown",
      "metadata": {
        "id": "view-in-github",
        "colab_type": "text"
      },
      "source": [
        "<a href=\"https://colab.research.google.com/github/psingh-xyz/NN-DL/blob/main/NN_DL_HW2.ipynb\" target=\"_parent\"><img src=\"https://colab.research.google.com/assets/colab-badge.svg\" alt=\"Open In Colab\"/></a>"
      ]
    },
    {
      "cell_type": "code",
      "execution_count": null,
      "metadata": {
        "id": "AWSUocfDfkBx"
      },
      "outputs": [],
      "source": [
        "import pandas as pd\n",
        "import matplotlib.pyplot as plt\n",
        "import numpy as np"
      ]
    },
    {
      "cell_type": "code",
      "execution_count": null,
      "metadata": {
        "colab": {
          "base_uri": "https://localhost:8080/"
        },
        "id": "t_QVcKZZfkBy",
        "outputId": "96012f61-7a8f-4a0e-afbe-22b17631c4cf"
      },
      "outputs": [
        {
          "output_type": "stream",
          "name": "stdout",
          "text": [
            "Requirement already satisfied: nltk in /usr/local/lib/python3.10/dist-packages (3.8.1)\n",
            "Requirement already satisfied: click in /usr/local/lib/python3.10/dist-packages (from nltk) (8.1.7)\n",
            "Requirement already satisfied: joblib in /usr/local/lib/python3.10/dist-packages (from nltk) (1.3.2)\n",
            "Requirement already satisfied: regex>=2021.8.3 in /usr/local/lib/python3.10/dist-packages (from nltk) (2023.6.3)\n",
            "Requirement already satisfied: tqdm in /usr/local/lib/python3.10/dist-packages (from nltk) (4.66.1)\n"
          ]
        }
      ],
      "source": [
        "!pip install nltk"
      ]
    },
    {
      "cell_type": "code",
      "execution_count": null,
      "metadata": {
        "colab": {
          "base_uri": "https://localhost:8080/"
        },
        "id": "U5cqaR8OfkBy",
        "outputId": "147fff57-5da0-4bd5-e06f-9e8b12e4be02"
      },
      "outputs": [
        {
          "output_type": "stream",
          "name": "stderr",
          "text": [
            "[nltk_data] Downloading package stopwords to /root/nltk_data...\n",
            "[nltk_data]   Package stopwords is already up-to-date!\n"
          ]
        },
        {
          "output_type": "execute_result",
          "data": {
            "text/plain": [
              "True"
            ]
          },
          "metadata": {},
          "execution_count": 3
        }
      ],
      "source": [
        "import nltk\n",
        "nltk.download('stopwords')"
      ]
    },
    {
      "cell_type": "code",
      "source": [
        "import re\n",
        "from sklearn.preprocessing import LabelEncoder\n",
        "from sklearn.model_selection import train_test_split\n",
        "from sklearn.feature_extraction.text import TfidfVectorizer\n",
        "from sklearn.ensemble import RandomForestClassifier\n",
        "from sklearn.model_selection import train_test_split, GridSearchCV, StratifiedKFold\n",
        "from sklearn.metrics import classification_report, accuracy_score, confusion_matrix\n",
        "from sklearn.metrics import roc_curve\n",
        "from sklearn.metrics import roc_auc_score\n",
        "from sklearn.metrics import precision_score\n",
        "from sklearn.metrics import recall_score\n",
        "from sklearn.metrics import f1_score,fbeta_score\n",
        "\n",
        "import warnings\n",
        "warnings.filterwarnings(\"ignore\")"
      ],
      "metadata": {
        "id": "8JHksTe0GAUm"
      },
      "execution_count": null,
      "outputs": []
    },
    {
      "cell_type": "code",
      "execution_count": null,
      "metadata": {
        "colab": {
          "base_uri": "https://localhost:8080/"
        },
        "id": "fqsdScrIfkBy",
        "outputId": "818ab810-e90f-4829-fd33-6d4c5d88d92d"
      },
      "outputs": [
        {
          "output_type": "stream",
          "name": "stdout",
          "text": [
            "       Label                                               Text\n",
            "0          4  Catheterization laboratory events and hospital...\n",
            "1          5  Renal abscess in children. Three cases of rena...\n",
            "2          2  Hyperplastic polyps seen at sigmoidoscopy are ...\n",
            "3          5  Subclavian artery to innominate vein fistula a...\n",
            "4          4  Effect of local inhibition of gamma-aminobutyr...\n",
            "...      ...                                                ...\n",
            "14433      4  Quadricuspid aortic valve and aortic regurgita...\n",
            "14434      1  Mammographic measurements before and after aug...\n",
            "14435      1  Use of leukocyte-depleted platelet concentrate...\n",
            "14436      2  Complications of Tenckhoff catheters post remo...\n",
            "14437      3  Fatal or severely disabling cerebral infarctio...\n",
            "\n",
            "[14438 rows x 2 columns]\n"
          ]
        }
      ],
      "source": [
        "df = pd.read_excel(\"/content/Medical-Dataset.xlsx\")\n",
        "\n",
        "print(df)\n",
        "#dataset= pd.read_csv(\"C:\\Users\\psingh\\Downloads\\Telegram Desktop\\Medical-Dataset.xlsx\")"
      ]
    },
    {
      "cell_type": "markdown",
      "metadata": {
        "id": "5qPXl7VPfkBz"
      },
      "source": [
        "Data Pre-Processing"
      ]
    },
    {
      "cell_type": "code",
      "execution_count": null,
      "metadata": {
        "colab": {
          "base_uri": "https://localhost:8080/"
        },
        "id": "8d4g7gf5fkBz",
        "outputId": "7c8608b0-834a-4d9e-a369-f281e3806c5d"
      },
      "outputs": [
        {
          "output_type": "execute_result",
          "data": {
            "text/plain": [
              "5    4805\n",
              "1    3163\n",
              "4    3051\n",
              "3    1925\n",
              "2    1494\n",
              "Name: Label, dtype: int64"
            ]
          },
          "metadata": {},
          "execution_count": 6
        }
      ],
      "source": [
        "df['Label'].value_counts()"
      ]
    },
    {
      "cell_type": "code",
      "execution_count": null,
      "metadata": {
        "colab": {
          "base_uri": "https://localhost:8080/"
        },
        "id": "LmlV6HIifkB0",
        "outputId": "eb9aa2cc-af65-41c8-da32-1218f5c401de"
      },
      "outputs": [
        {
          "output_type": "stream",
          "name": "stdout",
          "text": [
            "Training set size: 10828\n",
            "Testing set size: 3610\n"
          ]
        }
      ],
      "source": [
        "# Split the dataset into training and testing sets\n",
        "train_df, test_df = train_test_split(df, test_size=0.25, stratify=df['Label'], random_state=42)\n",
        "\n",
        "# Verify the split\n",
        "print(\"Training set size:\", len(train_df))\n",
        "print(\"Testing set size:\", len(test_df))\n"
      ]
    },
    {
      "cell_type": "code",
      "execution_count": null,
      "metadata": {
        "colab": {
          "base_uri": "https://localhost:8080/",
          "height": 206
        },
        "id": "0eUyI2sXfkB0",
        "outputId": "a1cb4746-70a3-4741-90cf-f1c3e8101575"
      },
      "outputs": [
        {
          "output_type": "execute_result",
          "data": {
            "text/plain": [
              "       Label                                               Text\n",
              "11519      1  Results of contemporary radical cystectomy for...\n",
              "14335      5  Intraluminal pressure adjacent to left colonic...\n",
              "3221       4  The Greenfield filter as the primary means of ...\n",
              "7749       2  Effectiveness of periodic checkup by ultrasono...\n",
              "590        4  Deep venous thrombosis. Implications after ope..."
            ],
            "text/html": [
              "\n",
              "  <div id=\"df-8f9c23c6-d033-457e-87d5-01cb6d49ee4e\" class=\"colab-df-container\">\n",
              "    <div>\n",
              "<style scoped>\n",
              "    .dataframe tbody tr th:only-of-type {\n",
              "        vertical-align: middle;\n",
              "    }\n",
              "\n",
              "    .dataframe tbody tr th {\n",
              "        vertical-align: top;\n",
              "    }\n",
              "\n",
              "    .dataframe thead th {\n",
              "        text-align: right;\n",
              "    }\n",
              "</style>\n",
              "<table border=\"1\" class=\"dataframe\">\n",
              "  <thead>\n",
              "    <tr style=\"text-align: right;\">\n",
              "      <th></th>\n",
              "      <th>Label</th>\n",
              "      <th>Text</th>\n",
              "    </tr>\n",
              "  </thead>\n",
              "  <tbody>\n",
              "    <tr>\n",
              "      <th>11519</th>\n",
              "      <td>1</td>\n",
              "      <td>Results of contemporary radical cystectomy for...</td>\n",
              "    </tr>\n",
              "    <tr>\n",
              "      <th>14335</th>\n",
              "      <td>5</td>\n",
              "      <td>Intraluminal pressure adjacent to left colonic...</td>\n",
              "    </tr>\n",
              "    <tr>\n",
              "      <th>3221</th>\n",
              "      <td>4</td>\n",
              "      <td>The Greenfield filter as the primary means of ...</td>\n",
              "    </tr>\n",
              "    <tr>\n",
              "      <th>7749</th>\n",
              "      <td>2</td>\n",
              "      <td>Effectiveness of periodic checkup by ultrasono...</td>\n",
              "    </tr>\n",
              "    <tr>\n",
              "      <th>590</th>\n",
              "      <td>4</td>\n",
              "      <td>Deep venous thrombosis. Implications after ope...</td>\n",
              "    </tr>\n",
              "  </tbody>\n",
              "</table>\n",
              "</div>\n",
              "    <div class=\"colab-df-buttons\">\n",
              "\n",
              "  <div class=\"colab-df-container\">\n",
              "    <button class=\"colab-df-convert\" onclick=\"convertToInteractive('df-8f9c23c6-d033-457e-87d5-01cb6d49ee4e')\"\n",
              "            title=\"Convert this dataframe to an interactive table.\"\n",
              "            style=\"display:none;\">\n",
              "\n",
              "  <svg xmlns=\"http://www.w3.org/2000/svg\" height=\"24px\" viewBox=\"0 -960 960 960\">\n",
              "    <path d=\"M120-120v-720h720v720H120Zm60-500h600v-160H180v160Zm220 220h160v-160H400v160Zm0 220h160v-160H400v160ZM180-400h160v-160H180v160Zm440 0h160v-160H620v160ZM180-180h160v-160H180v160Zm440 0h160v-160H620v160Z\"/>\n",
              "  </svg>\n",
              "    </button>\n",
              "\n",
              "  <style>\n",
              "    .colab-df-container {\n",
              "      display:flex;\n",
              "      gap: 12px;\n",
              "    }\n",
              "\n",
              "    .colab-df-convert {\n",
              "      background-color: #E8F0FE;\n",
              "      border: none;\n",
              "      border-radius: 50%;\n",
              "      cursor: pointer;\n",
              "      display: none;\n",
              "      fill: #1967D2;\n",
              "      height: 32px;\n",
              "      padding: 0 0 0 0;\n",
              "      width: 32px;\n",
              "    }\n",
              "\n",
              "    .colab-df-convert:hover {\n",
              "      background-color: #E2EBFA;\n",
              "      box-shadow: 0px 1px 2px rgba(60, 64, 67, 0.3), 0px 1px 3px 1px rgba(60, 64, 67, 0.15);\n",
              "      fill: #174EA6;\n",
              "    }\n",
              "\n",
              "    .colab-df-buttons div {\n",
              "      margin-bottom: 4px;\n",
              "    }\n",
              "\n",
              "    [theme=dark] .colab-df-convert {\n",
              "      background-color: #3B4455;\n",
              "      fill: #D2E3FC;\n",
              "    }\n",
              "\n",
              "    [theme=dark] .colab-df-convert:hover {\n",
              "      background-color: #434B5C;\n",
              "      box-shadow: 0px 1px 3px 1px rgba(0, 0, 0, 0.15);\n",
              "      filter: drop-shadow(0px 1px 2px rgba(0, 0, 0, 0.3));\n",
              "      fill: #FFFFFF;\n",
              "    }\n",
              "  </style>\n",
              "\n",
              "    <script>\n",
              "      const buttonEl =\n",
              "        document.querySelector('#df-8f9c23c6-d033-457e-87d5-01cb6d49ee4e button.colab-df-convert');\n",
              "      buttonEl.style.display =\n",
              "        google.colab.kernel.accessAllowed ? 'block' : 'none';\n",
              "\n",
              "      async function convertToInteractive(key) {\n",
              "        const element = document.querySelector('#df-8f9c23c6-d033-457e-87d5-01cb6d49ee4e');\n",
              "        const dataTable =\n",
              "          await google.colab.kernel.invokeFunction('convertToInteractive',\n",
              "                                                    [key], {});\n",
              "        if (!dataTable) return;\n",
              "\n",
              "        const docLinkHtml = 'Like what you see? Visit the ' +\n",
              "          '<a target=\"_blank\" href=https://colab.research.google.com/notebooks/data_table.ipynb>data table notebook</a>'\n",
              "          + ' to learn more about interactive tables.';\n",
              "        element.innerHTML = '';\n",
              "        dataTable['output_type'] = 'display_data';\n",
              "        await google.colab.output.renderOutput(dataTable, element);\n",
              "        const docLink = document.createElement('div');\n",
              "        docLink.innerHTML = docLinkHtml;\n",
              "        element.appendChild(docLink);\n",
              "      }\n",
              "    </script>\n",
              "  </div>\n",
              "\n",
              "\n",
              "<div id=\"df-15b5a8e8-7e2c-41ad-857c-13a1a2637c90\">\n",
              "  <button class=\"colab-df-quickchart\" onclick=\"quickchart('df-15b5a8e8-7e2c-41ad-857c-13a1a2637c90')\"\n",
              "            title=\"Suggest charts\"\n",
              "            style=\"display:none;\">\n",
              "\n",
              "<svg xmlns=\"http://www.w3.org/2000/svg\" height=\"24px\"viewBox=\"0 0 24 24\"\n",
              "     width=\"24px\">\n",
              "    <g>\n",
              "        <path d=\"M19 3H5c-1.1 0-2 .9-2 2v14c0 1.1.9 2 2 2h14c1.1 0 2-.9 2-2V5c0-1.1-.9-2-2-2zM9 17H7v-7h2v7zm4 0h-2V7h2v10zm4 0h-2v-4h2v4z\"/>\n",
              "    </g>\n",
              "</svg>\n",
              "  </button>\n",
              "\n",
              "<style>\n",
              "  .colab-df-quickchart {\n",
              "      --bg-color: #E8F0FE;\n",
              "      --fill-color: #1967D2;\n",
              "      --hover-bg-color: #E2EBFA;\n",
              "      --hover-fill-color: #174EA6;\n",
              "      --disabled-fill-color: #AAA;\n",
              "      --disabled-bg-color: #DDD;\n",
              "  }\n",
              "\n",
              "  [theme=dark] .colab-df-quickchart {\n",
              "      --bg-color: #3B4455;\n",
              "      --fill-color: #D2E3FC;\n",
              "      --hover-bg-color: #434B5C;\n",
              "      --hover-fill-color: #FFFFFF;\n",
              "      --disabled-bg-color: #3B4455;\n",
              "      --disabled-fill-color: #666;\n",
              "  }\n",
              "\n",
              "  .colab-df-quickchart {\n",
              "    background-color: var(--bg-color);\n",
              "    border: none;\n",
              "    border-radius: 50%;\n",
              "    cursor: pointer;\n",
              "    display: none;\n",
              "    fill: var(--fill-color);\n",
              "    height: 32px;\n",
              "    padding: 0;\n",
              "    width: 32px;\n",
              "  }\n",
              "\n",
              "  .colab-df-quickchart:hover {\n",
              "    background-color: var(--hover-bg-color);\n",
              "    box-shadow: 0 1px 2px rgba(60, 64, 67, 0.3), 0 1px 3px 1px rgba(60, 64, 67, 0.15);\n",
              "    fill: var(--button-hover-fill-color);\n",
              "  }\n",
              "\n",
              "  .colab-df-quickchart-complete:disabled,\n",
              "  .colab-df-quickchart-complete:disabled:hover {\n",
              "    background-color: var(--disabled-bg-color);\n",
              "    fill: var(--disabled-fill-color);\n",
              "    box-shadow: none;\n",
              "  }\n",
              "\n",
              "  .colab-df-spinner {\n",
              "    border: 2px solid var(--fill-color);\n",
              "    border-color: transparent;\n",
              "    border-bottom-color: var(--fill-color);\n",
              "    animation:\n",
              "      spin 1s steps(1) infinite;\n",
              "  }\n",
              "\n",
              "  @keyframes spin {\n",
              "    0% {\n",
              "      border-color: transparent;\n",
              "      border-bottom-color: var(--fill-color);\n",
              "      border-left-color: var(--fill-color);\n",
              "    }\n",
              "    20% {\n",
              "      border-color: transparent;\n",
              "      border-left-color: var(--fill-color);\n",
              "      border-top-color: var(--fill-color);\n",
              "    }\n",
              "    30% {\n",
              "      border-color: transparent;\n",
              "      border-left-color: var(--fill-color);\n",
              "      border-top-color: var(--fill-color);\n",
              "      border-right-color: var(--fill-color);\n",
              "    }\n",
              "    40% {\n",
              "      border-color: transparent;\n",
              "      border-right-color: var(--fill-color);\n",
              "      border-top-color: var(--fill-color);\n",
              "    }\n",
              "    60% {\n",
              "      border-color: transparent;\n",
              "      border-right-color: var(--fill-color);\n",
              "    }\n",
              "    80% {\n",
              "      border-color: transparent;\n",
              "      border-right-color: var(--fill-color);\n",
              "      border-bottom-color: var(--fill-color);\n",
              "    }\n",
              "    90% {\n",
              "      border-color: transparent;\n",
              "      border-bottom-color: var(--fill-color);\n",
              "    }\n",
              "  }\n",
              "</style>\n",
              "\n",
              "  <script>\n",
              "    async function quickchart(key) {\n",
              "      const quickchartButtonEl =\n",
              "        document.querySelector('#' + key + ' button');\n",
              "      quickchartButtonEl.disabled = true;  // To prevent multiple clicks.\n",
              "      quickchartButtonEl.classList.add('colab-df-spinner');\n",
              "      try {\n",
              "        const charts = await google.colab.kernel.invokeFunction(\n",
              "            'suggestCharts', [key], {});\n",
              "      } catch (error) {\n",
              "        console.error('Error during call to suggestCharts:', error);\n",
              "      }\n",
              "      quickchartButtonEl.classList.remove('colab-df-spinner');\n",
              "      quickchartButtonEl.classList.add('colab-df-quickchart-complete');\n",
              "    }\n",
              "    (() => {\n",
              "      let quickchartButtonEl =\n",
              "        document.querySelector('#df-15b5a8e8-7e2c-41ad-857c-13a1a2637c90 button');\n",
              "      quickchartButtonEl.style.display =\n",
              "        google.colab.kernel.accessAllowed ? 'block' : 'none';\n",
              "    })();\n",
              "  </script>\n",
              "</div>\n",
              "    </div>\n",
              "  </div>\n"
            ]
          },
          "metadata": {},
          "execution_count": 8
        }
      ],
      "source": [
        "train_df.head()"
      ]
    },
    {
      "cell_type": "code",
      "execution_count": null,
      "metadata": {
        "colab": {
          "base_uri": "https://localhost:8080/"
        },
        "id": "1_8eyR59fkB0",
        "outputId": "babc6850-ca06-4605-d83c-4c6e29fca0a0"
      },
      "outputs": [
        {
          "output_type": "execute_result",
          "data": {
            "text/plain": [
              "5    3604\n",
              "1    2372\n",
              "4    2288\n",
              "3    1444\n",
              "2    1120\n",
              "Name: Label, dtype: int64"
            ]
          },
          "metadata": {},
          "execution_count": 9
        }
      ],
      "source": [
        "train_df['Label'].value_counts()"
      ]
    },
    {
      "cell_type": "code",
      "execution_count": null,
      "metadata": {
        "colab": {
          "base_uri": "https://localhost:8080/",
          "height": 206
        },
        "id": "YmcUqeZ8fkB0",
        "outputId": "dbc7ba9e-a56a-4876-f53c-a9a6090ca698"
      },
      "outputs": [
        {
          "output_type": "execute_result",
          "data": {
            "text/plain": [
              "       Label                                               Text\n",
              "11085      5  Isolated ventral pancreatitis in a patient wit...\n",
              "2306       3  Anteromedial tibial tubercle transfer without ...\n",
              "10374      5  Effects of prostaglandin E1 in postoperative s...\n",
              "7632       1  Carcinosarcoma of the lung with hypertrophic p...\n",
              "6044       2  Scleroderma esophagus. Scleroderma (systemic s..."
            ],
            "text/html": [
              "\n",
              "  <div id=\"df-de0075f1-e341-4471-a90d-e13df379d498\" class=\"colab-df-container\">\n",
              "    <div>\n",
              "<style scoped>\n",
              "    .dataframe tbody tr th:only-of-type {\n",
              "        vertical-align: middle;\n",
              "    }\n",
              "\n",
              "    .dataframe tbody tr th {\n",
              "        vertical-align: top;\n",
              "    }\n",
              "\n",
              "    .dataframe thead th {\n",
              "        text-align: right;\n",
              "    }\n",
              "</style>\n",
              "<table border=\"1\" class=\"dataframe\">\n",
              "  <thead>\n",
              "    <tr style=\"text-align: right;\">\n",
              "      <th></th>\n",
              "      <th>Label</th>\n",
              "      <th>Text</th>\n",
              "    </tr>\n",
              "  </thead>\n",
              "  <tbody>\n",
              "    <tr>\n",
              "      <th>11085</th>\n",
              "      <td>5</td>\n",
              "      <td>Isolated ventral pancreatitis in a patient wit...</td>\n",
              "    </tr>\n",
              "    <tr>\n",
              "      <th>2306</th>\n",
              "      <td>3</td>\n",
              "      <td>Anteromedial tibial tubercle transfer without ...</td>\n",
              "    </tr>\n",
              "    <tr>\n",
              "      <th>10374</th>\n",
              "      <td>5</td>\n",
              "      <td>Effects of prostaglandin E1 in postoperative s...</td>\n",
              "    </tr>\n",
              "    <tr>\n",
              "      <th>7632</th>\n",
              "      <td>1</td>\n",
              "      <td>Carcinosarcoma of the lung with hypertrophic p...</td>\n",
              "    </tr>\n",
              "    <tr>\n",
              "      <th>6044</th>\n",
              "      <td>2</td>\n",
              "      <td>Scleroderma esophagus. Scleroderma (systemic s...</td>\n",
              "    </tr>\n",
              "  </tbody>\n",
              "</table>\n",
              "</div>\n",
              "    <div class=\"colab-df-buttons\">\n",
              "\n",
              "  <div class=\"colab-df-container\">\n",
              "    <button class=\"colab-df-convert\" onclick=\"convertToInteractive('df-de0075f1-e341-4471-a90d-e13df379d498')\"\n",
              "            title=\"Convert this dataframe to an interactive table.\"\n",
              "            style=\"display:none;\">\n",
              "\n",
              "  <svg xmlns=\"http://www.w3.org/2000/svg\" height=\"24px\" viewBox=\"0 -960 960 960\">\n",
              "    <path d=\"M120-120v-720h720v720H120Zm60-500h600v-160H180v160Zm220 220h160v-160H400v160Zm0 220h160v-160H400v160ZM180-400h160v-160H180v160Zm440 0h160v-160H620v160ZM180-180h160v-160H180v160Zm440 0h160v-160H620v160Z\"/>\n",
              "  </svg>\n",
              "    </button>\n",
              "\n",
              "  <style>\n",
              "    .colab-df-container {\n",
              "      display:flex;\n",
              "      gap: 12px;\n",
              "    }\n",
              "\n",
              "    .colab-df-convert {\n",
              "      background-color: #E8F0FE;\n",
              "      border: none;\n",
              "      border-radius: 50%;\n",
              "      cursor: pointer;\n",
              "      display: none;\n",
              "      fill: #1967D2;\n",
              "      height: 32px;\n",
              "      padding: 0 0 0 0;\n",
              "      width: 32px;\n",
              "    }\n",
              "\n",
              "    .colab-df-convert:hover {\n",
              "      background-color: #E2EBFA;\n",
              "      box-shadow: 0px 1px 2px rgba(60, 64, 67, 0.3), 0px 1px 3px 1px rgba(60, 64, 67, 0.15);\n",
              "      fill: #174EA6;\n",
              "    }\n",
              "\n",
              "    .colab-df-buttons div {\n",
              "      margin-bottom: 4px;\n",
              "    }\n",
              "\n",
              "    [theme=dark] .colab-df-convert {\n",
              "      background-color: #3B4455;\n",
              "      fill: #D2E3FC;\n",
              "    }\n",
              "\n",
              "    [theme=dark] .colab-df-convert:hover {\n",
              "      background-color: #434B5C;\n",
              "      box-shadow: 0px 1px 3px 1px rgba(0, 0, 0, 0.15);\n",
              "      filter: drop-shadow(0px 1px 2px rgba(0, 0, 0, 0.3));\n",
              "      fill: #FFFFFF;\n",
              "    }\n",
              "  </style>\n",
              "\n",
              "    <script>\n",
              "      const buttonEl =\n",
              "        document.querySelector('#df-de0075f1-e341-4471-a90d-e13df379d498 button.colab-df-convert');\n",
              "      buttonEl.style.display =\n",
              "        google.colab.kernel.accessAllowed ? 'block' : 'none';\n",
              "\n",
              "      async function convertToInteractive(key) {\n",
              "        const element = document.querySelector('#df-de0075f1-e341-4471-a90d-e13df379d498');\n",
              "        const dataTable =\n",
              "          await google.colab.kernel.invokeFunction('convertToInteractive',\n",
              "                                                    [key], {});\n",
              "        if (!dataTable) return;\n",
              "\n",
              "        const docLinkHtml = 'Like what you see? Visit the ' +\n",
              "          '<a target=\"_blank\" href=https://colab.research.google.com/notebooks/data_table.ipynb>data table notebook</a>'\n",
              "          + ' to learn more about interactive tables.';\n",
              "        element.innerHTML = '';\n",
              "        dataTable['output_type'] = 'display_data';\n",
              "        await google.colab.output.renderOutput(dataTable, element);\n",
              "        const docLink = document.createElement('div');\n",
              "        docLink.innerHTML = docLinkHtml;\n",
              "        element.appendChild(docLink);\n",
              "      }\n",
              "    </script>\n",
              "  </div>\n",
              "\n",
              "\n",
              "<div id=\"df-8ded0661-4ee7-46f7-a401-fd10d0cb3501\">\n",
              "  <button class=\"colab-df-quickchart\" onclick=\"quickchart('df-8ded0661-4ee7-46f7-a401-fd10d0cb3501')\"\n",
              "            title=\"Suggest charts\"\n",
              "            style=\"display:none;\">\n",
              "\n",
              "<svg xmlns=\"http://www.w3.org/2000/svg\" height=\"24px\"viewBox=\"0 0 24 24\"\n",
              "     width=\"24px\">\n",
              "    <g>\n",
              "        <path d=\"M19 3H5c-1.1 0-2 .9-2 2v14c0 1.1.9 2 2 2h14c1.1 0 2-.9 2-2V5c0-1.1-.9-2-2-2zM9 17H7v-7h2v7zm4 0h-2V7h2v10zm4 0h-2v-4h2v4z\"/>\n",
              "    </g>\n",
              "</svg>\n",
              "  </button>\n",
              "\n",
              "<style>\n",
              "  .colab-df-quickchart {\n",
              "      --bg-color: #E8F0FE;\n",
              "      --fill-color: #1967D2;\n",
              "      --hover-bg-color: #E2EBFA;\n",
              "      --hover-fill-color: #174EA6;\n",
              "      --disabled-fill-color: #AAA;\n",
              "      --disabled-bg-color: #DDD;\n",
              "  }\n",
              "\n",
              "  [theme=dark] .colab-df-quickchart {\n",
              "      --bg-color: #3B4455;\n",
              "      --fill-color: #D2E3FC;\n",
              "      --hover-bg-color: #434B5C;\n",
              "      --hover-fill-color: #FFFFFF;\n",
              "      --disabled-bg-color: #3B4455;\n",
              "      --disabled-fill-color: #666;\n",
              "  }\n",
              "\n",
              "  .colab-df-quickchart {\n",
              "    background-color: var(--bg-color);\n",
              "    border: none;\n",
              "    border-radius: 50%;\n",
              "    cursor: pointer;\n",
              "    display: none;\n",
              "    fill: var(--fill-color);\n",
              "    height: 32px;\n",
              "    padding: 0;\n",
              "    width: 32px;\n",
              "  }\n",
              "\n",
              "  .colab-df-quickchart:hover {\n",
              "    background-color: var(--hover-bg-color);\n",
              "    box-shadow: 0 1px 2px rgba(60, 64, 67, 0.3), 0 1px 3px 1px rgba(60, 64, 67, 0.15);\n",
              "    fill: var(--button-hover-fill-color);\n",
              "  }\n",
              "\n",
              "  .colab-df-quickchart-complete:disabled,\n",
              "  .colab-df-quickchart-complete:disabled:hover {\n",
              "    background-color: var(--disabled-bg-color);\n",
              "    fill: var(--disabled-fill-color);\n",
              "    box-shadow: none;\n",
              "  }\n",
              "\n",
              "  .colab-df-spinner {\n",
              "    border: 2px solid var(--fill-color);\n",
              "    border-color: transparent;\n",
              "    border-bottom-color: var(--fill-color);\n",
              "    animation:\n",
              "      spin 1s steps(1) infinite;\n",
              "  }\n",
              "\n",
              "  @keyframes spin {\n",
              "    0% {\n",
              "      border-color: transparent;\n",
              "      border-bottom-color: var(--fill-color);\n",
              "      border-left-color: var(--fill-color);\n",
              "    }\n",
              "    20% {\n",
              "      border-color: transparent;\n",
              "      border-left-color: var(--fill-color);\n",
              "      border-top-color: var(--fill-color);\n",
              "    }\n",
              "    30% {\n",
              "      border-color: transparent;\n",
              "      border-left-color: var(--fill-color);\n",
              "      border-top-color: var(--fill-color);\n",
              "      border-right-color: var(--fill-color);\n",
              "    }\n",
              "    40% {\n",
              "      border-color: transparent;\n",
              "      border-right-color: var(--fill-color);\n",
              "      border-top-color: var(--fill-color);\n",
              "    }\n",
              "    60% {\n",
              "      border-color: transparent;\n",
              "      border-right-color: var(--fill-color);\n",
              "    }\n",
              "    80% {\n",
              "      border-color: transparent;\n",
              "      border-right-color: var(--fill-color);\n",
              "      border-bottom-color: var(--fill-color);\n",
              "    }\n",
              "    90% {\n",
              "      border-color: transparent;\n",
              "      border-bottom-color: var(--fill-color);\n",
              "    }\n",
              "  }\n",
              "</style>\n",
              "\n",
              "  <script>\n",
              "    async function quickchart(key) {\n",
              "      const quickchartButtonEl =\n",
              "        document.querySelector('#' + key + ' button');\n",
              "      quickchartButtonEl.disabled = true;  // To prevent multiple clicks.\n",
              "      quickchartButtonEl.classList.add('colab-df-spinner');\n",
              "      try {\n",
              "        const charts = await google.colab.kernel.invokeFunction(\n",
              "            'suggestCharts', [key], {});\n",
              "      } catch (error) {\n",
              "        console.error('Error during call to suggestCharts:', error);\n",
              "      }\n",
              "      quickchartButtonEl.classList.remove('colab-df-spinner');\n",
              "      quickchartButtonEl.classList.add('colab-df-quickchart-complete');\n",
              "    }\n",
              "    (() => {\n",
              "      let quickchartButtonEl =\n",
              "        document.querySelector('#df-8ded0661-4ee7-46f7-a401-fd10d0cb3501 button');\n",
              "      quickchartButtonEl.style.display =\n",
              "        google.colab.kernel.accessAllowed ? 'block' : 'none';\n",
              "    })();\n",
              "  </script>\n",
              "</div>\n",
              "    </div>\n",
              "  </div>\n"
            ]
          },
          "metadata": {},
          "execution_count": 10
        }
      ],
      "source": [
        "test_df.head()"
      ]
    },
    {
      "cell_type": "code",
      "execution_count": null,
      "metadata": {
        "colab": {
          "base_uri": "https://localhost:8080/"
        },
        "id": "KiWf-0_pfkB1",
        "outputId": "4aae3595-69fe-48b3-9dd4-3916eee2574a"
      },
      "outputs": [
        {
          "output_type": "execute_result",
          "data": {
            "text/plain": [
              "5    1201\n",
              "1     791\n",
              "4     763\n",
              "3     481\n",
              "2     374\n",
              "Name: Label, dtype: int64"
            ]
          },
          "metadata": {},
          "execution_count": 11
        }
      ],
      "source": [
        "test_df['Label'].value_counts()"
      ]
    },
    {
      "cell_type": "code",
      "source": [
        "from nltk.corpus import stopwords\n",
        "stop_words_list= set(stopwords.words('english'))\n",
        "\n"
      ],
      "metadata": {
        "id": "T4hKF8TPHbof"
      },
      "execution_count": null,
      "outputs": []
    },
    {
      "cell_type": "code",
      "execution_count": null,
      "metadata": {
        "id": "4vXlNlevfkB1",
        "colab": {
          "base_uri": "https://localhost:8080/"
        },
        "outputId": "e4ba14a5-4ccb-42c2-bc94-32f513c951d7"
      },
      "outputs": [
        {
          "output_type": "stream",
          "name": "stdout",
          "text": [
            "Input text:  thnx for the info btw, pls send it ASAP.\n",
            "Output text: thanks for the info by the way, please send it ASAP.\n"
          ]
        }
      ],
      "source": [
        "\n",
        "\n",
        "def decode_abbreviations(Text):\n",
        "    # Add your abbreviation decoding logic here\n",
        "    # Define a dictionary of abbreviations and their full forms\n",
        "    abbreviations = {\n",
        "        'thnx': 'thanks',\n",
        "        'thx': 'thanks',\n",
        "        'btw': 'by the way',\n",
        "        'pls': 'please',\n",
        "        'plz': 'please',\n",
        "        # Add more abbreviations as needed\n",
        "    }\n",
        "\n",
        "    # Replace abbreviations with their full forms\n",
        "    for abbreviation, full_form in abbreviations.items():\n",
        "        Text = Text.replace(abbreviation, full_form)\n",
        "\n",
        "    return Text\n",
        "\n",
        "# Example usage\n",
        "input_text = \"thnx for the info btw, pls send it ASAP.\"\n",
        "output_text = decode_abbreviations(input_text)\n",
        "\n",
        "print(\"Input text: \", input_text)\n",
        "print(\"Output text:\", output_text)\n",
        "\n",
        "\n"
      ]
    },
    {
      "cell_type": "code",
      "source": [
        "\n",
        "\n",
        "def preprocess_text(text):\n",
        "  # Step 1: Removal of hashtags, HTML tags, mentions, URLs, and punctuations\n",
        "    # Removal of hashtags, HTML tags, mentions, punctuations, and URLs\n",
        "    text = re.sub(r'#\\w+', '', text)             # Remove hashtags\n",
        "    text = re.sub(r'<.*?>', '', text)            # Remove HTML tags\n",
        "    text = re.sub(r'@[A-Za-z0-9_]+', '', text)   # Remove mentions numbers\n",
        "    text = re.sub(r'[^\\w\\s]', '', text)          # Remove punctuations\n",
        "    text = re.sub(r'http\\S+', '', text)          # Remove URLs\n",
        "\n",
        "    # Step 2: Removal of duplicate content\n",
        "    Text = df['Text'].drop_duplicates()\n",
        "\n",
        "     # Step 3: Decoding of abbreviations\n",
        "    Text = decode_abbreviations(Text)\n",
        "\n",
        "\n",
        "    # Step 4: Changing to lowercase\n",
        "    text = text.lower()\n",
        "\n",
        "    # Step 5:Remove stop words\n",
        "    words = text.split()\n",
        "    filtered_words = [word for word in words if word not in stop_words_list]\n",
        "    filtered_text = ' '.join(filtered_words)\n",
        "    return filtered_text\n",
        "\n"
      ],
      "metadata": {
        "id": "s1ozCJqQGMVx"
      },
      "execution_count": null,
      "outputs": []
    },
    {
      "cell_type": "code",
      "source": [
        "# Apply Pre-processing\n",
        "train_df['Text']= train_df['Text'].apply(lambda x: preprocess_text(x))\n",
        "train_df['Text'].head()"
      ],
      "metadata": {
        "colab": {
          "base_uri": "https://localhost:8080/"
        },
        "id": "QtDrh12cGnsn",
        "outputId": "45daa6cc-fa08-4eb1-a8b5-5655c8c54d9c"
      },
      "execution_count": null,
      "outputs": [
        {
          "output_type": "execute_result",
          "data": {
            "text/plain": [
              "11519    results contemporary radical cystectomy invasi...\n",
              "14335    intraluminal pressure adjacent left colonic an...\n",
              "3221     greenfield filter primary means therapy venous...\n",
              "7749     effectiveness periodic checkup ultrasonography...\n",
              "590      deep venous thrombosis implications open heart...\n",
              "Name: Text, dtype: object"
            ]
          },
          "metadata": {},
          "execution_count": 15
        }
      ]
    },
    {
      "cell_type": "code",
      "execution_count": null,
      "metadata": {
        "id": "wlLYonKlfkB1",
        "colab": {
          "base_uri": "https://localhost:8080/"
        },
        "outputId": "fbf4d53d-070a-49a9-829f-17661646c532"
      },
      "outputs": [
        {
          "output_type": "execute_result",
          "data": {
            "text/plain": [
              "11085    isolated ventral pancreatitis patient pancreas...\n",
              "2306     anteromedial tibial tubercle transfer without ...\n",
              "10374    effects prostaglandin e1 postoperative surgica...\n",
              "7632     carcinosarcoma lung hypertrophic pulmonary ost...\n",
              "6044     scleroderma esophagus scleroderma systemic scl...\n",
              "Name: Text, dtype: object"
            ]
          },
          "metadata": {},
          "execution_count": 16
        }
      ],
      "source": [
        "# Apply Pre-processing\n",
        "#train_df['Text']= train_df['Text'].apply(lambda x: preprocess_text(x))\n",
        "#train_df['Text'].head()\n",
        "test_df['Text']= test_df['Text'].apply(lambda x: preprocess_text(x))\n",
        "test_df['Text'].head()"
      ]
    },
    {
      "cell_type": "markdown",
      "source": [
        "#TF-IDF weighting scheme"
      ],
      "metadata": {
        "id": "HZwpOzOwLRlI"
      }
    },
    {
      "cell_type": "code",
      "source": [
        "#apply unigram method to generate feature matrix\n",
        "#tv = TfidfVectorizer(ngram_range=(1,1), max_features=3000)\n",
        "#train_unigra_features = tv.fit_transform(x_train).toarray()\n",
        "#test_unigra_features = tv.transform(x_test).toarray()"
      ],
      "metadata": {
        "id": "eHoE0eMryy54"
      },
      "execution_count": null,
      "outputs": []
    },
    {
      "cell_type": "code",
      "source": [
        "# split dataset for training and testing\n",
        "#x_train,x_test,y_train,y_test= train_test_split(df['Text'],df['Label'],test_size=0.25)"
      ],
      "metadata": {
        "id": "Xs-0U67u0BTs"
      },
      "execution_count": null,
      "outputs": []
    },
    {
      "cell_type": "code",
      "source": [
        "df['Label'] = df['Label'] - 1"
      ],
      "metadata": {
        "id": "1gNP57Uv3dRD"
      },
      "execution_count": null,
      "outputs": []
    },
    {
      "cell_type": "code",
      "source": [
        "from sklearn.feature_extraction.text import TfidfVectorizer\n",
        "\n",
        "tv = TfidfVectorizer(ngram_range=(1,1), max_features=5000)\n",
        "train_features = tv.fit_transform(train_df['Text'])\n",
        "test_features = tv.transform(test_df['Text'])"
      ],
      "metadata": {
        "id": "IViECDa7JoEQ"
      },
      "execution_count": null,
      "outputs": []
    },
    {
      "cell_type": "code",
      "source": [
        "# split dataset for training and testing\n",
        "x_train,x_test,y_train,y_test= train_test_split(df['Text'],df['Label'],test_size=0.25)"
      ],
      "metadata": {
        "id": "E0rO0QYULaEE"
      },
      "execution_count": null,
      "outputs": []
    },
    {
      "cell_type": "code",
      "source": [],
      "metadata": {
        "id": "T_zJOd-Q3Zb7"
      },
      "execution_count": null,
      "outputs": []
    },
    {
      "cell_type": "code",
      "source": [
        "from sklearn.feature_extraction.text import CountVectorizer\n",
        "from sklearn.model_selection import train_test_split\n",
        "from sklearn.ensemble import RandomForestClassifier\n",
        "from sklearn.metrics import classification_report, confusion_matrix\n",
        "from gensim.models import Word2Vec\n",
        "from nltk.tokenize import word_tokenize\n",
        "from keras.models import Sequential\n",
        "from keras.layers import Embedding, Conv1D, GlobalMaxPooling1D, Dense, Dropout, BatchNormalization\n",
        "from keras.utils import to_categorical\n",
        "import matplotlib.pyplot as plt\n",
        "from tensorflow.keras import backend as K\n",
        "import tensorflow as tf"
      ],
      "metadata": {
        "id": "ZX3X9Q2SNyzI"
      },
      "execution_count": null,
      "outputs": []
    },
    {
      "cell_type": "code",
      "source": [
        "from gensim.models import Word2Vec\n",
        "from nltk.tokenize import word_tokenize\n",
        "import numpy as np\n",
        "\n",
        "# Tokenize the documents for Word2Vec\n",
        "tokenized_documents_train = [word_tokenize(doc.lower()) for doc in x_train]\n",
        "tokenized_documents_test = [word_tokenize(doc.lower()) for doc in x_test]\n",
        "\n",
        "# Train the Word2Vec model using skip-gram\n",
        "word2vec_model = Word2Vec(sentences=tokenized_documents_train, vector_size=100, window=5, sg=1, seed=42)\n",
        "\n",
        "# Generate the feature matrix for training set using Word2Vec\n",
        "word2vec_train_feature_matrix = []\n",
        "for doc in tokenized_documents_train:\n",
        "    doc_vector = np.mean([word2vec_model.wv[word] for word in doc if word in word2vec_model.wv], axis=0)\n",
        "    word2vec_train_feature_matrix.append(doc_vector)\n",
        "\n",
        "# Generate the feature matrix for testing set using Word2Vec\n",
        "word2vec_test_feature_matrix = []\n",
        "for doc in tokenized_documents_test:\n",
        "    doc_vector = np.mean([word2vec_model.wv[word] for word in doc if word in word2vec_model.wv], axis=0)\n",
        "    word2vec_test_feature_matrix.append(doc_vector)\n",
        "\n",
        "# Convert the feature matrices to NumPy arrays\n",
        "word2vec_train_feature_matrix = np.array(word2vec_train_feature_matrix)\n",
        "word2vec_test_feature_matrix = np.array(word2vec_test_feature_matrix)\n",
        "\n",
        "# Step 3: Use each feature matrix with a deep learning model (Simple CNN)\n",
        "# Train and evaluate the CNN model using Word2Vec features\n",
        "def create_cnn_model_word2vec(input_dim):\n",
        "    model = Sequential()\n",
        "    model.add(Embedding(input_dim=input_dim, output_dim=100, input_length=input_dim))\n",
        "    model.add(Conv1D(filters=128, kernel_size=5, activation='relu'))\n",
        "    model.add(GlobalMaxPooling1D())\n",
        "    model.add(Dense(64, activation='relu'))\n",
        "    model.add(Dropout(0.5))\n",
        "    model.add(Dense(1, activation='sigmoid'))\n",
        "    model.compile(optimizer='adam', loss='binary_crossentropy', metrics=['accuracy'])\n",
        "    return model\n",
        "\n",
        "# Train and evaluate the CNN model using Word2Vec features\n",
        "cnn_model_word2vec = create_cnn_model_word2vec(word2vec_train_feature_matrix.shape[1])\n",
        "cnn_model_word2vec.fit(word2vec_train_feature_matrix, y_train, epochs=5, batch_size=32, validation_split=0.2)\n",
        "cnn_word2vec_probs = cnn_model_word2vec.predict(word2vec_test_feature_matrix)\n",
        "#cnn_word2vec_preds = cnn_model_word2vec.predict_classes(word2vec_test_feature_matrix)\n",
        "cnn_word2vec_preds = (cnn_word2vec_probs > 0.5).astype(int)\n",
        "\n",
        "# Evaluate the model performance\n",
        "accuracy_word2vec = accuracy_score(y_test, cnn_word2vec_preds)\n",
        "conf_matrix_word2vec = confusion_matrix(y_test, cnn_word2vec_preds)\n",
        "classification_report_word2vec = classification_report(y_test, cnn_word2vec_preds, target_names=['Class 1', 'Class 2', 'Class 3', 'Class 4', 'Class 5'])\n",
        "\n",
        "\n",
        "print(\"\\nCNN Model with Word2Vec Features:\")\n",
        "print(\"Testing Accuracy: {:.4f}\".format(accuracy_word2vec))\n",
        "print(\"\\nConfusion Matrix:\")\n",
        "print(conf_matrix_word2vec)\n",
        "print(\"\\nClassification Report:\")\n",
        "print(classification_report_word2vec)\n"
      ],
      "metadata": {
        "colab": {
          "base_uri": "https://localhost:8080/"
        },
        "id": "BrEEKvxtehcW",
        "outputId": "4651ac5a-0b99-4cc5-c509-5fe4afd8e4d7"
      },
      "execution_count": null,
      "outputs": [
        {
          "output_type": "stream",
          "name": "stdout",
          "text": [
            "Epoch 1/5\n",
            "271/271 [==============================] - 3s 6ms/step - loss: -9770.2422 - accuracy: 0.1042 - val_loss: -53499.9102 - val_accuracy: 0.0988\n",
            "Epoch 2/5\n",
            "271/271 [==============================] - 2s 6ms/step - loss: -384197.5000 - accuracy: 0.1038 - val_loss: -1034225.4375 - val_accuracy: 0.0988\n",
            "Epoch 3/5\n",
            "271/271 [==============================] - 1s 6ms/step - loss: -2794849.2500 - accuracy: 0.1038 - val_loss: -5344282.0000 - val_accuracy: 0.0988\n",
            "Epoch 4/5\n",
            "271/271 [==============================] - 1s 5ms/step - loss: -10099826.0000 - accuracy: 0.1038 - val_loss: -16196393.0000 - val_accuracy: 0.0988\n",
            "Epoch 5/5\n",
            "271/271 [==============================] - 1s 5ms/step - loss: -25944624.0000 - accuracy: 0.1038 - val_loss: -37341324.0000 - val_accuracy: 0.0988\n",
            "113/113 [==============================] - 0s 2ms/step\n",
            "\n",
            "CNN Model with Word2Vec Features:\n",
            "Testing Accuracy: 0.1055\n",
            "\n",
            "Confusion Matrix:\n",
            "[[   0  805    0    0    0]\n",
            " [   0  381    0    0    0]\n",
            " [   0  459    0    0    0]\n",
            " [   0  774    0    0    0]\n",
            " [   0 1191    0    0    0]]\n",
            "\n",
            "Classification Report:\n",
            "              precision    recall  f1-score   support\n",
            "\n",
            "     Class 1       0.00      0.00      0.00       805\n",
            "     Class 2       0.11      1.00      0.19       381\n",
            "     Class 3       0.00      0.00      0.00       459\n",
            "     Class 4       0.00      0.00      0.00       774\n",
            "     Class 5       0.00      0.00      0.00      1191\n",
            "\n",
            "    accuracy                           0.11      3610\n",
            "   macro avg       0.02      0.20      0.04      3610\n",
            "weighted avg       0.01      0.11      0.02      3610\n",
            "\n"
          ]
        }
      ]
    },
    {
      "cell_type": "code",
      "source": [
        "# Step 1: Apply the word uni-gram method and compute feature matrix\n",
        "vectorizer = CountVectorizer()\n",
        "feature_matrix_unigram = vectorizer.fit_transform(df['Text'])\n",
        "\n",
        "# Step 2: Apply Word2Vec embedding model\n",
        "tokenized_documents = [word_tokenize(doc.lower()) for doc in df['Text']]\n",
        "word2vec_model = Word2Vec(sentences=tokenized_documents, vector_size=100, window=5, sg=1, seed=42)\n",
        "\n",
        "word2vec_feature_matrix = []\n",
        "for doc in tokenized_documents:\n",
        "    doc_vector = np.mean([word2vec_model.wv[word] for word in doc if word in word2vec_model.wv], axis=0)\n",
        "    word2vec_feature_matrix.append(doc_vector)\n",
        "\n",
        "word2vec_feature_matrix = np.array(word2vec_feature_matrix)\n",
        "\n",
        "# Split the dataset into training and testing sets\n",
        "X_train_unigram, X_test_unigram, y_train, y_test = train_test_split(feature_matrix_unigram, df['Label'], test_size=0.25, random_state=42)\n",
        "X_train_word2vec, X_test_word2vec = train_test_split(word2vec_feature_matrix, test_size=0.25, random_state=42)"
      ],
      "metadata": {
        "id": "MVTyeaHmNPeQ"
      },
      "execution_count": null,
      "outputs": []
    },
    {
      "cell_type": "code",
      "source": [
        "X_train_unigram_dense = X_train_unigram.toarray()\n",
        "X_train_word2vec_dense = X_train_word2vec"
      ],
      "metadata": {
        "id": "5zdjMXBdP8vq"
      },
      "execution_count": null,
      "outputs": []
    },
    {
      "cell_type": "code",
      "source": [
        "from keras.models import Sequential, Model\n",
        "from keras.layers import InputLayer, Embedding, Conv1D, GlobalMaxPooling1D, Dense, Dropout\n",
        "from sklearn.feature_extraction.text import TfidfVectorizer\n",
        "from sklearn.model_selection import train_test_split\n",
        "\n",
        "# Define CNN model for unigram features\n",
        "def create_cnn_model_unigram(input_dim):\n",
        "    model = Sequential()\n",
        "    model.add(InputLayer(input_shape=(input_dim,)))\n",
        "    model.add(Embedding(input_dim=input_dim, output_dim=100))\n",
        "    model.add(Conv1D(filters=128, kernel_size=5, activation='relu'))\n",
        "    model.add(GlobalMaxPooling1D())\n",
        "    model.add(Dense(64, activation='relu'))\n",
        "    model.add(Dropout(0.5))\n",
        "    model.add(Dense(1, activation='sigmoid'))\n",
        "    model.compile(optimizer='adam', loss='binary_crossentropy', metrics=['accuracy'])\n",
        "    return model\n",
        "\n",
        "# Define CNN model for Word2Vec features\n",
        "def create_cnn_model_word2vec(input_dim):\n",
        "    model = Sequential()\n",
        "    model.add(InputLayer(input_shape=(input_dim,)))\n",
        "    model.add(Embedding(input_dim=input_dim, output_dim=100))\n",
        "    model.add(Conv1D(filters=128, kernel_size=5, activation='relu'))\n",
        "    model.add(GlobalMaxPooling1D())\n",
        "    model.add(Dense(64, activation='relu'))\n",
        "    model.add(Dropout(0.5))\n",
        "    model.add(Dense(1, activation='sigmoid'))\n",
        "    model.compile(optimizer='adam', loss='binary_crossentropy', metrics=['accuracy'])\n",
        "    return model\n",
        "\n"
      ],
      "metadata": {
        "id": "JfTzLIwrQGXd"
      },
      "execution_count": null,
      "outputs": []
    },
    {
      "cell_type": "code",
      "source": [
        "# Train and evaluate the CNN model using unigram features\n",
        "cnn_model_unigram = create_cnn_model_unigram(X_train_unigram_dense.shape[1])\n",
        "cnn_model_unigram.fit(X_train_unigram_dense, y_train, epochs=5, batch_size=32)\n",
        "cnn_unigram_probs = cnn_model_unigram.predict(X_test_unigram.toarray())\n",
        "cnn_unigram_preds = (cnn_unigram_probs > 0.5).astype(int)\n",
        "\n",
        "# Train and evaluate the CNN model using Word2Vec features\n",
        "cnn_model_word2vec = create_cnn_model_word2vec(X_train_word2vec_dense.shape[1])\n",
        "cnn_model_word2vec.fit(X_train_word2vec_dense, y_train, epochs=5, batch_size=32)\n",
        "cnn_word2vec_probs = cnn_model_word2vec.predict(X_test_word2vec)\n",
        "cnn_word2vec_preds = (cnn_word2vec_probs > 0.5).astype(int)\n"
      ],
      "metadata": {
        "colab": {
          "base_uri": "https://localhost:8080/"
        },
        "id": "3kHK45fnbL7u",
        "outputId": "4fd28ae7-843a-4656-8f5d-0c7f2f49c1f9"
      },
      "execution_count": null,
      "outputs": [
        {
          "output_type": "stream",
          "name": "stdout",
          "text": [
            "Epoch 1/5\n",
            "339/339 [==============================] - 100s 255ms/step - loss: -70032.7812 - accuracy: 0.1031\n",
            "Epoch 2/5\n",
            "339/339 [==============================] - 85s 250ms/step - loss: -2991295.7500 - accuracy: 0.1028\n",
            "Epoch 3/5\n",
            "339/339 [==============================] - 84s 249ms/step - loss: -21314934.0000 - accuracy: 0.1028\n",
            "Epoch 4/5\n",
            "339/339 [==============================] - 84s 248ms/step - loss: -74962056.0000 - accuracy: 0.1028\n",
            "Epoch 5/5\n",
            "339/339 [==============================] - 84s 248ms/step - loss: -188480848.0000 - accuracy: 0.1028\n",
            "113/113 [==============================] - 8s 66ms/step\n",
            "Epoch 1/5\n",
            "339/339 [==============================] - 3s 5ms/step - loss: -30694.4727 - accuracy: 0.1028\n",
            "Epoch 2/5\n",
            "339/339 [==============================] - 2s 5ms/step - loss: -1212560.3750 - accuracy: 0.1028\n",
            "Epoch 3/5\n",
            "339/339 [==============================] - 2s 5ms/step - loss: -8547040.0000 - accuracy: 0.1028\n",
            "Epoch 4/5\n",
            "339/339 [==============================] - 2s 5ms/step - loss: -30491032.0000 - accuracy: 0.1028\n",
            "Epoch 5/5\n",
            "339/339 [==============================] - 2s 7ms/step - loss: -76957280.0000 - accuracy: 0.1028\n",
            "113/113 [==============================] - 0s 3ms/step\n"
          ]
        }
      ]
    },
    {
      "cell_type": "code",
      "source": [
        "print(\"\\nCNN Model with Word2Vec Features:\")\n",
        "print(\"Testing Accuracy: {:.4f}\".format(accuracy_word2vec))\n",
        "print(\"\\nConfusion Matrix:\")\n",
        "print(conf_matrix_word2vec)\n",
        "print(\"\\nClassification Report:\")\n",
        "print(classification_report_word2vec)"
      ],
      "metadata": {
        "colab": {
          "base_uri": "https://localhost:8080/",
          "height": 279
        },
        "id": "JlFYLNZ0Bu2D",
        "outputId": "a2e8742a-0604-4d54-c385-e87525369518"
      },
      "execution_count": null,
      "outputs": [
        {
          "output_type": "stream",
          "name": "stdout",
          "text": [
            "\n",
            "CNN Model with Word2Vec Features:\n"
          ]
        },
        {
          "output_type": "error",
          "ename": "NameError",
          "evalue": "ignored",
          "traceback": [
            "\u001b[0;31m---------------------------------------------------------------------------\u001b[0m",
            "\u001b[0;31mNameError\u001b[0m                                 Traceback (most recent call last)",
            "\u001b[0;32m<ipython-input-29-d98266b7ecf4>\u001b[0m in \u001b[0;36m<cell line: 2>\u001b[0;34m()\u001b[0m\n\u001b[1;32m      1\u001b[0m \u001b[0mprint\u001b[0m\u001b[0;34m(\u001b[0m\u001b[0;34m\"\\nCNN Model with Word2Vec Features:\"\u001b[0m\u001b[0;34m)\u001b[0m\u001b[0;34m\u001b[0m\u001b[0;34m\u001b[0m\u001b[0m\n\u001b[0;32m----> 2\u001b[0;31m \u001b[0mprint\u001b[0m\u001b[0;34m(\u001b[0m\u001b[0;34m\"Testing Accuracy: {:.4f}\"\u001b[0m\u001b[0;34m.\u001b[0m\u001b[0mformat\u001b[0m\u001b[0;34m(\u001b[0m\u001b[0maccuracy_word2vec\u001b[0m\u001b[0;34m)\u001b[0m\u001b[0;34m)\u001b[0m\u001b[0;34m\u001b[0m\u001b[0;34m\u001b[0m\u001b[0m\n\u001b[0m\u001b[1;32m      3\u001b[0m \u001b[0mprint\u001b[0m\u001b[0;34m(\u001b[0m\u001b[0;34m\"\\nConfusion Matrix:\"\u001b[0m\u001b[0;34m)\u001b[0m\u001b[0;34m\u001b[0m\u001b[0;34m\u001b[0m\u001b[0m\n\u001b[1;32m      4\u001b[0m \u001b[0mprint\u001b[0m\u001b[0;34m(\u001b[0m\u001b[0mconf_matrix_word2vec\u001b[0m\u001b[0;34m)\u001b[0m\u001b[0;34m\u001b[0m\u001b[0;34m\u001b[0m\u001b[0m\n\u001b[1;32m      5\u001b[0m \u001b[0mprint\u001b[0m\u001b[0;34m(\u001b[0m\u001b[0;34m\"\\nClassification Report:\"\u001b[0m\u001b[0;34m)\u001b[0m\u001b[0;34m\u001b[0m\u001b[0;34m\u001b[0m\u001b[0m\n",
            "\u001b[0;31mNameError\u001b[0m: name 'accuracy_word2vec' is not defined"
          ]
        }
      ]
    },
    {
      "cell_type": "code",
      "source": [
        " nltk.download('punkt')"
      ],
      "metadata": {
        "id": "Q2n-eFk8N5hT"
      },
      "execution_count": null,
      "outputs": []
    },
    {
      "cell_type": "markdown",
      "source": [
        "# **Word2Vec Embedding**"
      ],
      "metadata": {
        "id": "266_HzmuNhZ2"
      }
    },
    {
      "cell_type": "markdown",
      "source": [
        "# **Convolutional Neural Network (CNN)**"
      ],
      "metadata": {
        "id": "h8oABDfxOkri"
      }
    }
  ],
  "metadata": {
    "kernelspec": {
      "display_name": "Python 3",
      "name": "python3"
    },
    "language_info": {
      "codemirror_mode": {
        "name": "ipython",
        "version": 3
      },
      "file_extension": ".py",
      "mimetype": "text/x-python",
      "name": "python",
      "nbconvert_exporter": "python",
      "pygments_lexer": "ipython3",
      "version": "3.10.9"
    },
    "colab": {
      "provenance": [],
      "gpuType": "T4",
      "include_colab_link": true
    },
    "accelerator": "GPU"
  },
  "nbformat": 4,
  "nbformat_minor": 0
}